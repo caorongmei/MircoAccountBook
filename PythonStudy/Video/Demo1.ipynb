{
 "cells": [
  {
   "cell_type": "code",
   "execution_count": null,
   "metadata": {
    "collapsed": true
   },
   "outputs": [],
   "source": [
    "from bs4 import BeautifulSoup\n",
    "import requests\n",
    "from datetime import datetime\n",
    "import json\n",
    "import re\n",
    "\n",
    "news_url = 'http://news.sina.com.cn/c/nd/2017-05-08/doc-ifyeycfp9368908.shtml'\n",
    "web_data = requests.get(news_url)\n",
    "web_data.encoding = 'utf-8'\n",
    "soup = BeautifulSoup(web_data.text,'lxml')\n",
    "title = soup.select('#artibodyTitle')[0].text\n",
    "print(title)\n",
    "\n",
    "time = soup.select('.time-source')[0].contents[0].strip()\n",
    "dt = datetime.strptime(time,'%Y年%m月%d日%H:%M')\n",
    "print(dt)\n",
    "\n",
    "source = soup.select('.time-source span span a')[0].text\n",
    "print(source)\n",
    "\n",
    "print('\\n'.join([p.text.strip() for p in soup.select('#artibody p')[:-1]]))\n",
    "\n",
    "editor = soup.select('.article-editor')[0].text.lstrip('责任编辑：')\n",
    "print(editor)\n",
    "\n",
    "comments = requests.get('http://comment5.news.sina.com.cn/page/info?version=1&format=js&channel=gn&newsid=comos-fyeycfp9368908&group=&compress=0&ie=utf-8&oe=utf-8&page=1&page_size=20')\n",
    "comments_total = json.loads(comments.text.strip('var data='))\n",
    "print(comments_total['result']['count']['total'])\n",
    "\n",
    "news_id = re.search('doc-i(.+).shtml',news_url)\n",
    "print(news_id.group(1))"
   ]
  },
  {
   "cell_type": "code",
   "execution_count": null,
   "metadata": {},
   "outputs": [],
   "source": [
    ""
   ]
  }
 ],
 "metadata": {
  "kernelspec": {
   "display_name": "Python 2",
   "language": "python",
   "name": "python2"
  },
  "language_info": {
   "codemirror_mode": {
    "name": "ipython",
    "version": 2.0
   },
   "file_extension": ".py",
   "mimetype": "text/x-python",
   "name": "python",
   "nbconvert_exporter": "python",
   "pygments_lexer": "ipython2",
   "version": "2.7.6"
  }
 },
 "nbformat": 4,
 "nbformat_minor": 0
}